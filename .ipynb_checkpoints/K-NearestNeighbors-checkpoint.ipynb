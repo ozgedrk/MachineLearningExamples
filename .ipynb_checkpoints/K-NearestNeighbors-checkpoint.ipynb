{
 "cells": [
  {
   "cell_type": "code",
   "execution_count": 6,
   "id": "2f98cd36-a9ca-4a1e-8c21-5d50ba919ed2",
   "metadata": {},
   "outputs": [],
   "source": [
    "# Bir Clasificiation algoritmasidir yani siniflandirir. \n",
    "# K sayisi komsu sayisini belirtir.\n",
    "import numpy as np\n",
    "import pandas as pd\n",
    "import seaborn as sns"
   ]
  },
  {
   "cell_type": "code",
   "execution_count": 7,
   "id": "5d3448ec-ec75-4dbd-a052-3ff16e2eb028",
   "metadata": {},
   "outputs": [],
   "source": [
    "df = pd.read_csv(\"iris.csv\")"
   ]
  },
  {
   "cell_type": "code",
   "execution_count": 8,
   "id": "81ae7ba3-2d92-4706-9c8f-cefaddf4a225",
   "metadata": {},
   "outputs": [
    {
     "data": {
      "text/html": [
       "<div>\n",
       "<style scoped>\n",
       "    .dataframe tbody tr th:only-of-type {\n",
       "        vertical-align: middle;\n",
       "    }\n",
       "\n",
       "    .dataframe tbody tr th {\n",
       "        vertical-align: top;\n",
       "    }\n",
       "\n",
       "    .dataframe thead th {\n",
       "        text-align: right;\n",
       "    }\n",
       "</style>\n",
       "<table border=\"1\" class=\"dataframe\">\n",
       "  <thead>\n",
       "    <tr style=\"text-align: right;\">\n",
       "      <th></th>\n",
       "      <th>sepal.length</th>\n",
       "      <th>sepal.width</th>\n",
       "      <th>petal.length</th>\n",
       "      <th>petal.width</th>\n",
       "      <th>variety</th>\n",
       "    </tr>\n",
       "  </thead>\n",
       "  <tbody>\n",
       "    <tr>\n",
       "      <th>0</th>\n",
       "      <td>5.1</td>\n",
       "      <td>3.5</td>\n",
       "      <td>1.4</td>\n",
       "      <td>0.2</td>\n",
       "      <td>Setosa</td>\n",
       "    </tr>\n",
       "    <tr>\n",
       "      <th>1</th>\n",
       "      <td>4.9</td>\n",
       "      <td>3.0</td>\n",
       "      <td>1.4</td>\n",
       "      <td>0.2</td>\n",
       "      <td>Setosa</td>\n",
       "    </tr>\n",
       "    <tr>\n",
       "      <th>2</th>\n",
       "      <td>4.7</td>\n",
       "      <td>3.2</td>\n",
       "      <td>1.3</td>\n",
       "      <td>0.2</td>\n",
       "      <td>Setosa</td>\n",
       "    </tr>\n",
       "    <tr>\n",
       "      <th>3</th>\n",
       "      <td>4.6</td>\n",
       "      <td>3.1</td>\n",
       "      <td>1.5</td>\n",
       "      <td>0.2</td>\n",
       "      <td>Setosa</td>\n",
       "    </tr>\n",
       "    <tr>\n",
       "      <th>4</th>\n",
       "      <td>5.0</td>\n",
       "      <td>3.6</td>\n",
       "      <td>1.4</td>\n",
       "      <td>0.2</td>\n",
       "      <td>Setosa</td>\n",
       "    </tr>\n",
       "    <tr>\n",
       "      <th>...</th>\n",
       "      <td>...</td>\n",
       "      <td>...</td>\n",
       "      <td>...</td>\n",
       "      <td>...</td>\n",
       "      <td>...</td>\n",
       "    </tr>\n",
       "    <tr>\n",
       "      <th>145</th>\n",
       "      <td>6.7</td>\n",
       "      <td>3.0</td>\n",
       "      <td>5.2</td>\n",
       "      <td>2.3</td>\n",
       "      <td>Virginica</td>\n",
       "    </tr>\n",
       "    <tr>\n",
       "      <th>146</th>\n",
       "      <td>6.3</td>\n",
       "      <td>2.5</td>\n",
       "      <td>5.0</td>\n",
       "      <td>1.9</td>\n",
       "      <td>Virginica</td>\n",
       "    </tr>\n",
       "    <tr>\n",
       "      <th>147</th>\n",
       "      <td>6.5</td>\n",
       "      <td>3.0</td>\n",
       "      <td>5.2</td>\n",
       "      <td>2.0</td>\n",
       "      <td>Virginica</td>\n",
       "    </tr>\n",
       "    <tr>\n",
       "      <th>148</th>\n",
       "      <td>6.2</td>\n",
       "      <td>3.4</td>\n",
       "      <td>5.4</td>\n",
       "      <td>2.3</td>\n",
       "      <td>Virginica</td>\n",
       "    </tr>\n",
       "    <tr>\n",
       "      <th>149</th>\n",
       "      <td>5.9</td>\n",
       "      <td>3.0</td>\n",
       "      <td>5.1</td>\n",
       "      <td>1.8</td>\n",
       "      <td>Virginica</td>\n",
       "    </tr>\n",
       "  </tbody>\n",
       "</table>\n",
       "<p>150 rows × 5 columns</p>\n",
       "</div>"
      ],
      "text/plain": [
       "     sepal.length  sepal.width  petal.length  petal.width    variety\n",
       "0             5.1          3.5           1.4          0.2     Setosa\n",
       "1             4.9          3.0           1.4          0.2     Setosa\n",
       "2             4.7          3.2           1.3          0.2     Setosa\n",
       "3             4.6          3.1           1.5          0.2     Setosa\n",
       "4             5.0          3.6           1.4          0.2     Setosa\n",
       "..            ...          ...           ...          ...        ...\n",
       "145           6.7          3.0           5.2          2.3  Virginica\n",
       "146           6.3          2.5           5.0          1.9  Virginica\n",
       "147           6.5          3.0           5.2          2.0  Virginica\n",
       "148           6.2          3.4           5.4          2.3  Virginica\n",
       "149           5.9          3.0           5.1          1.8  Virginica\n",
       "\n",
       "[150 rows x 5 columns]"
      ]
     },
     "execution_count": 8,
     "metadata": {},
     "output_type": "execute_result"
    }
   ],
   "source": [
    "df"
   ]
  },
  {
   "cell_type": "code",
   "execution_count": 9,
   "id": "fa3d91c3-e073-4723-9b05-2e8fa12d87e6",
   "metadata": {},
   "outputs": [
    {
     "data": {
      "text/plain": [
       "variety\n",
       "Setosa        50\n",
       "Versicolor    50\n",
       "Virginica     50\n",
       "Name: count, dtype: int64"
      ]
     },
     "execution_count": 9,
     "metadata": {},
     "output_type": "execute_result"
    }
   ],
   "source": [
    "df.variety.value_counts()"
   ]
  },
  {
   "cell_type": "code",
   "execution_count": 13,
   "id": "36d84744-6c9d-428e-a7f0-9400ba751cf7",
   "metadata": {},
   "outputs": [
    {
     "data": {
      "text/plain": [
       "sepal.length    float64\n",
       "sepal.width     float64\n",
       "petal.length    float64\n",
       "petal.width     float64\n",
       "variety          object\n",
       "dtype: object"
      ]
     },
     "execution_count": 13,
     "metadata": {},
     "output_type": "execute_result"
    }
   ],
   "source": [
    "df.dtypes"
   ]
  },
  {
   "cell_type": "code",
   "execution_count": 19,
   "id": "5b643621-dcac-4f8d-aa45-e9cf057b1976",
   "metadata": {},
   "outputs": [],
   "source": [
    "df.variety = df.variety.astype('category')"
   ]
  },
  {
   "cell_type": "code",
   "execution_count": 23,
   "id": "70d94331-fd99-4631-b5da-dcbad5b5cf8b",
   "metadata": {},
   "outputs": [],
   "source": [
    "# Dumy benzeri kategorik sekilde siniflara ayiriyoruz. \n",
    "# 0 - 1 - 2 gibi "
   ]
  },
  {
   "cell_type": "code",
   "execution_count": 20,
   "id": "dc14d9a6-3a64-490a-b4d1-72019f31cfda",
   "metadata": {},
   "outputs": [],
   "source": [
    "df.variety = df.variety.cat.codes"
   ]
  },
  {
   "cell_type": "code",
   "execution_count": 21,
   "id": "5ef264d4-3677-4f06-b544-b4902ec32768",
   "metadata": {},
   "outputs": [
    {
     "data": {
      "text/html": [
       "<div>\n",
       "<style scoped>\n",
       "    .dataframe tbody tr th:only-of-type {\n",
       "        vertical-align: middle;\n",
       "    }\n",
       "\n",
       "    .dataframe tbody tr th {\n",
       "        vertical-align: top;\n",
       "    }\n",
       "\n",
       "    .dataframe thead th {\n",
       "        text-align: right;\n",
       "    }\n",
       "</style>\n",
       "<table border=\"1\" class=\"dataframe\">\n",
       "  <thead>\n",
       "    <tr style=\"text-align: right;\">\n",
       "      <th></th>\n",
       "      <th>sepal.length</th>\n",
       "      <th>sepal.width</th>\n",
       "      <th>petal.length</th>\n",
       "      <th>petal.width</th>\n",
       "      <th>variety</th>\n",
       "    </tr>\n",
       "  </thead>\n",
       "  <tbody>\n",
       "    <tr>\n",
       "      <th>0</th>\n",
       "      <td>5.1</td>\n",
       "      <td>3.5</td>\n",
       "      <td>1.4</td>\n",
       "      <td>0.2</td>\n",
       "      <td>0</td>\n",
       "    </tr>\n",
       "    <tr>\n",
       "      <th>1</th>\n",
       "      <td>4.9</td>\n",
       "      <td>3.0</td>\n",
       "      <td>1.4</td>\n",
       "      <td>0.2</td>\n",
       "      <td>0</td>\n",
       "    </tr>\n",
       "    <tr>\n",
       "      <th>2</th>\n",
       "      <td>4.7</td>\n",
       "      <td>3.2</td>\n",
       "      <td>1.3</td>\n",
       "      <td>0.2</td>\n",
       "      <td>0</td>\n",
       "    </tr>\n",
       "    <tr>\n",
       "      <th>3</th>\n",
       "      <td>4.6</td>\n",
       "      <td>3.1</td>\n",
       "      <td>1.5</td>\n",
       "      <td>0.2</td>\n",
       "      <td>0</td>\n",
       "    </tr>\n",
       "    <tr>\n",
       "      <th>4</th>\n",
       "      <td>5.0</td>\n",
       "      <td>3.6</td>\n",
       "      <td>1.4</td>\n",
       "      <td>0.2</td>\n",
       "      <td>0</td>\n",
       "    </tr>\n",
       "    <tr>\n",
       "      <th>...</th>\n",
       "      <td>...</td>\n",
       "      <td>...</td>\n",
       "      <td>...</td>\n",
       "      <td>...</td>\n",
       "      <td>...</td>\n",
       "    </tr>\n",
       "    <tr>\n",
       "      <th>145</th>\n",
       "      <td>6.7</td>\n",
       "      <td>3.0</td>\n",
       "      <td>5.2</td>\n",
       "      <td>2.3</td>\n",
       "      <td>2</td>\n",
       "    </tr>\n",
       "    <tr>\n",
       "      <th>146</th>\n",
       "      <td>6.3</td>\n",
       "      <td>2.5</td>\n",
       "      <td>5.0</td>\n",
       "      <td>1.9</td>\n",
       "      <td>2</td>\n",
       "    </tr>\n",
       "    <tr>\n",
       "      <th>147</th>\n",
       "      <td>6.5</td>\n",
       "      <td>3.0</td>\n",
       "      <td>5.2</td>\n",
       "      <td>2.0</td>\n",
       "      <td>2</td>\n",
       "    </tr>\n",
       "    <tr>\n",
       "      <th>148</th>\n",
       "      <td>6.2</td>\n",
       "      <td>3.4</td>\n",
       "      <td>5.4</td>\n",
       "      <td>2.3</td>\n",
       "      <td>2</td>\n",
       "    </tr>\n",
       "    <tr>\n",
       "      <th>149</th>\n",
       "      <td>5.9</td>\n",
       "      <td>3.0</td>\n",
       "      <td>5.1</td>\n",
       "      <td>1.8</td>\n",
       "      <td>2</td>\n",
       "    </tr>\n",
       "  </tbody>\n",
       "</table>\n",
       "<p>150 rows × 5 columns</p>\n",
       "</div>"
      ],
      "text/plain": [
       "     sepal.length  sepal.width  petal.length  petal.width  variety\n",
       "0             5.1          3.5           1.4          0.2        0\n",
       "1             4.9          3.0           1.4          0.2        0\n",
       "2             4.7          3.2           1.3          0.2        0\n",
       "3             4.6          3.1           1.5          0.2        0\n",
       "4             5.0          3.6           1.4          0.2        0\n",
       "..            ...          ...           ...          ...      ...\n",
       "145           6.7          3.0           5.2          2.3        2\n",
       "146           6.3          2.5           5.0          1.9        2\n",
       "147           6.5          3.0           5.2          2.0        2\n",
       "148           6.2          3.4           5.4          2.3        2\n",
       "149           5.9          3.0           5.1          1.8        2\n",
       "\n",
       "[150 rows x 5 columns]"
      ]
     },
     "execution_count": 21,
     "metadata": {},
     "output_type": "execute_result"
    }
   ],
   "source": [
    "df"
   ]
  },
  {
   "cell_type": "code",
   "execution_count": 24,
   "id": "59001a6e-3d49-4552-b5c9-2505c1a10c94",
   "metadata": {},
   "outputs": [],
   "source": [
    "np.random.seed(50)"
   ]
  },
  {
   "cell_type": "markdown",
   "id": "c3788853-1ef6-4a57-a154-38727ef7b479",
   "metadata": {},
   "source": [
    "###  Spitting the Data\n"
   ]
  },
  {
   "cell_type": "code",
   "execution_count": 27,
   "id": "eaf35a4d-6339-48c6-b845-6330795f60b6",
   "metadata": {},
   "outputs": [],
   "source": [
    "def splitting(mydata, ratio):\n",
    "    train_num = int(len(mydata) * ratio)\n",
    "    train_index = np.random.choice(range(0,len(mydata)),replace = False, size = train_num)\n",
    "    train = mydata.iloc[train_index]\n",
    "    test = mydata[~mydata.index.isin(train_index)]\n",
    "    return train,test"
   ]
  },
  {
   "cell_type": "code",
   "execution_count": 28,
   "id": "b13e179f-585e-4182-b535-565a80d78681",
   "metadata": {},
   "outputs": [],
   "source": [
    "train,test = splitting(mydata = df, ratio = 0.8)"
   ]
  },
  {
   "cell_type": "code",
   "execution_count": 29,
   "id": "802972c2-145f-4aa9-8329-f25624fa4bad",
   "metadata": {
    "scrolled": true
   },
   "outputs": [
    {
     "data": {
      "text/html": [
       "<div>\n",
       "<style scoped>\n",
       "    .dataframe tbody tr th:only-of-type {\n",
       "        vertical-align: middle;\n",
       "    }\n",
       "\n",
       "    .dataframe tbody tr th {\n",
       "        vertical-align: top;\n",
       "    }\n",
       "\n",
       "    .dataframe thead th {\n",
       "        text-align: right;\n",
       "    }\n",
       "</style>\n",
       "<table border=\"1\" class=\"dataframe\">\n",
       "  <thead>\n",
       "    <tr style=\"text-align: right;\">\n",
       "      <th></th>\n",
       "      <th>sepal.length</th>\n",
       "      <th>sepal.width</th>\n",
       "      <th>petal.length</th>\n",
       "      <th>petal.width</th>\n",
       "      <th>variety</th>\n",
       "    </tr>\n",
       "  </thead>\n",
       "  <tbody>\n",
       "    <tr>\n",
       "      <th>88</th>\n",
       "      <td>5.6</td>\n",
       "      <td>3.0</td>\n",
       "      <td>4.1</td>\n",
       "      <td>1.3</td>\n",
       "      <td>1</td>\n",
       "    </tr>\n",
       "    <tr>\n",
       "      <th>72</th>\n",
       "      <td>6.3</td>\n",
       "      <td>2.5</td>\n",
       "      <td>4.9</td>\n",
       "      <td>1.5</td>\n",
       "      <td>1</td>\n",
       "    </tr>\n",
       "    <tr>\n",
       "      <th>20</th>\n",
       "      <td>5.4</td>\n",
       "      <td>3.4</td>\n",
       "      <td>1.7</td>\n",
       "      <td>0.2</td>\n",
       "      <td>0</td>\n",
       "    </tr>\n",
       "    <tr>\n",
       "      <th>16</th>\n",
       "      <td>5.4</td>\n",
       "      <td>3.9</td>\n",
       "      <td>1.3</td>\n",
       "      <td>0.4</td>\n",
       "      <td>0</td>\n",
       "    </tr>\n",
       "    <tr>\n",
       "      <th>147</th>\n",
       "      <td>6.5</td>\n",
       "      <td>3.0</td>\n",
       "      <td>5.2</td>\n",
       "      <td>2.0</td>\n",
       "      <td>2</td>\n",
       "    </tr>\n",
       "    <tr>\n",
       "      <th>...</th>\n",
       "      <td>...</td>\n",
       "      <td>...</td>\n",
       "      <td>...</td>\n",
       "      <td>...</td>\n",
       "      <td>...</td>\n",
       "    </tr>\n",
       "    <tr>\n",
       "      <th>96</th>\n",
       "      <td>5.7</td>\n",
       "      <td>2.9</td>\n",
       "      <td>4.2</td>\n",
       "      <td>1.3</td>\n",
       "      <td>1</td>\n",
       "    </tr>\n",
       "    <tr>\n",
       "      <th>76</th>\n",
       "      <td>6.8</td>\n",
       "      <td>2.8</td>\n",
       "      <td>4.8</td>\n",
       "      <td>1.4</td>\n",
       "      <td>1</td>\n",
       "    </tr>\n",
       "    <tr>\n",
       "      <th>66</th>\n",
       "      <td>5.6</td>\n",
       "      <td>3.0</td>\n",
       "      <td>4.5</td>\n",
       "      <td>1.5</td>\n",
       "      <td>1</td>\n",
       "    </tr>\n",
       "    <tr>\n",
       "      <th>121</th>\n",
       "      <td>5.6</td>\n",
       "      <td>2.8</td>\n",
       "      <td>4.9</td>\n",
       "      <td>2.0</td>\n",
       "      <td>2</td>\n",
       "    </tr>\n",
       "    <tr>\n",
       "      <th>60</th>\n",
       "      <td>5.0</td>\n",
       "      <td>2.0</td>\n",
       "      <td>3.5</td>\n",
       "      <td>1.0</td>\n",
       "      <td>1</td>\n",
       "    </tr>\n",
       "  </tbody>\n",
       "</table>\n",
       "<p>120 rows × 5 columns</p>\n",
       "</div>"
      ],
      "text/plain": [
       "     sepal.length  sepal.width  petal.length  petal.width  variety\n",
       "88            5.6          3.0           4.1          1.3        1\n",
       "72            6.3          2.5           4.9          1.5        1\n",
       "20            5.4          3.4           1.7          0.2        0\n",
       "16            5.4          3.9           1.3          0.4        0\n",
       "147           6.5          3.0           5.2          2.0        2\n",
       "..            ...          ...           ...          ...      ...\n",
       "96            5.7          2.9           4.2          1.3        1\n",
       "76            6.8          2.8           4.8          1.4        1\n",
       "66            5.6          3.0           4.5          1.5        1\n",
       "121           5.6          2.8           4.9          2.0        2\n",
       "60            5.0          2.0           3.5          1.0        1\n",
       "\n",
       "[120 rows x 5 columns]"
      ]
     },
     "execution_count": 29,
     "metadata": {},
     "output_type": "execute_result"
    }
   ],
   "source": [
    "train"
   ]
  },
  {
   "cell_type": "code",
   "execution_count": 30,
   "id": "0e7f7f39-9035-426c-a8cb-a34ab00e7060",
   "metadata": {},
   "outputs": [
    {
     "data": {
      "text/html": [
       "<div>\n",
       "<style scoped>\n",
       "    .dataframe tbody tr th:only-of-type {\n",
       "        vertical-align: middle;\n",
       "    }\n",
       "\n",
       "    .dataframe tbody tr th {\n",
       "        vertical-align: top;\n",
       "    }\n",
       "\n",
       "    .dataframe thead th {\n",
       "        text-align: right;\n",
       "    }\n",
       "</style>\n",
       "<table border=\"1\" class=\"dataframe\">\n",
       "  <thead>\n",
       "    <tr style=\"text-align: right;\">\n",
       "      <th></th>\n",
       "      <th>sepal.length</th>\n",
       "      <th>sepal.width</th>\n",
       "      <th>petal.length</th>\n",
       "      <th>petal.width</th>\n",
       "      <th>variety</th>\n",
       "    </tr>\n",
       "  </thead>\n",
       "  <tbody>\n",
       "    <tr>\n",
       "      <th>2</th>\n",
       "      <td>4.7</td>\n",
       "      <td>3.2</td>\n",
       "      <td>1.3</td>\n",
       "      <td>0.2</td>\n",
       "      <td>0</td>\n",
       "    </tr>\n",
       "    <tr>\n",
       "      <th>6</th>\n",
       "      <td>4.6</td>\n",
       "      <td>3.4</td>\n",
       "      <td>1.4</td>\n",
       "      <td>0.3</td>\n",
       "      <td>0</td>\n",
       "    </tr>\n",
       "    <tr>\n",
       "      <th>19</th>\n",
       "      <td>5.1</td>\n",
       "      <td>3.8</td>\n",
       "      <td>1.5</td>\n",
       "      <td>0.3</td>\n",
       "      <td>0</td>\n",
       "    </tr>\n",
       "    <tr>\n",
       "      <th>22</th>\n",
       "      <td>4.6</td>\n",
       "      <td>3.6</td>\n",
       "      <td>1.0</td>\n",
       "      <td>0.2</td>\n",
       "      <td>0</td>\n",
       "    </tr>\n",
       "    <tr>\n",
       "      <th>26</th>\n",
       "      <td>5.0</td>\n",
       "      <td>3.4</td>\n",
       "      <td>1.6</td>\n",
       "      <td>0.4</td>\n",
       "      <td>0</td>\n",
       "    </tr>\n",
       "    <tr>\n",
       "      <th>30</th>\n",
       "      <td>4.8</td>\n",
       "      <td>3.1</td>\n",
       "      <td>1.6</td>\n",
       "      <td>0.2</td>\n",
       "      <td>0</td>\n",
       "    </tr>\n",
       "    <tr>\n",
       "      <th>31</th>\n",
       "      <td>5.4</td>\n",
       "      <td>3.4</td>\n",
       "      <td>1.5</td>\n",
       "      <td>0.4</td>\n",
       "      <td>0</td>\n",
       "    </tr>\n",
       "    <tr>\n",
       "      <th>33</th>\n",
       "      <td>5.5</td>\n",
       "      <td>4.2</td>\n",
       "      <td>1.4</td>\n",
       "      <td>0.2</td>\n",
       "      <td>0</td>\n",
       "    </tr>\n",
       "    <tr>\n",
       "      <th>35</th>\n",
       "      <td>5.0</td>\n",
       "      <td>3.2</td>\n",
       "      <td>1.2</td>\n",
       "      <td>0.2</td>\n",
       "      <td>0</td>\n",
       "    </tr>\n",
       "    <tr>\n",
       "      <th>43</th>\n",
       "      <td>5.0</td>\n",
       "      <td>3.5</td>\n",
       "      <td>1.6</td>\n",
       "      <td>0.6</td>\n",
       "      <td>0</td>\n",
       "    </tr>\n",
       "    <tr>\n",
       "      <th>49</th>\n",
       "      <td>5.0</td>\n",
       "      <td>3.3</td>\n",
       "      <td>1.4</td>\n",
       "      <td>0.2</td>\n",
       "      <td>0</td>\n",
       "    </tr>\n",
       "    <tr>\n",
       "      <th>64</th>\n",
       "      <td>5.6</td>\n",
       "      <td>2.9</td>\n",
       "      <td>3.6</td>\n",
       "      <td>1.3</td>\n",
       "      <td>1</td>\n",
       "    </tr>\n",
       "    <tr>\n",
       "      <th>70</th>\n",
       "      <td>5.9</td>\n",
       "      <td>3.2</td>\n",
       "      <td>4.8</td>\n",
       "      <td>1.8</td>\n",
       "      <td>1</td>\n",
       "    </tr>\n",
       "    <tr>\n",
       "      <th>71</th>\n",
       "      <td>6.1</td>\n",
       "      <td>2.8</td>\n",
       "      <td>4.0</td>\n",
       "      <td>1.3</td>\n",
       "      <td>1</td>\n",
       "    </tr>\n",
       "    <tr>\n",
       "      <th>79</th>\n",
       "      <td>5.7</td>\n",
       "      <td>2.6</td>\n",
       "      <td>3.5</td>\n",
       "      <td>1.0</td>\n",
       "      <td>1</td>\n",
       "    </tr>\n",
       "    <tr>\n",
       "      <th>85</th>\n",
       "      <td>6.0</td>\n",
       "      <td>3.4</td>\n",
       "      <td>4.5</td>\n",
       "      <td>1.6</td>\n",
       "      <td>1</td>\n",
       "    </tr>\n",
       "    <tr>\n",
       "      <th>91</th>\n",
       "      <td>6.1</td>\n",
       "      <td>3.0</td>\n",
       "      <td>4.6</td>\n",
       "      <td>1.4</td>\n",
       "      <td>1</td>\n",
       "    </tr>\n",
       "    <tr>\n",
       "      <th>92</th>\n",
       "      <td>5.8</td>\n",
       "      <td>2.6</td>\n",
       "      <td>4.0</td>\n",
       "      <td>1.2</td>\n",
       "      <td>1</td>\n",
       "    </tr>\n",
       "    <tr>\n",
       "      <th>95</th>\n",
       "      <td>5.7</td>\n",
       "      <td>3.0</td>\n",
       "      <td>4.2</td>\n",
       "      <td>1.2</td>\n",
       "      <td>1</td>\n",
       "    </tr>\n",
       "    <tr>\n",
       "      <th>105</th>\n",
       "      <td>7.6</td>\n",
       "      <td>3.0</td>\n",
       "      <td>6.6</td>\n",
       "      <td>2.1</td>\n",
       "      <td>2</td>\n",
       "    </tr>\n",
       "    <tr>\n",
       "      <th>106</th>\n",
       "      <td>4.9</td>\n",
       "      <td>2.5</td>\n",
       "      <td>4.5</td>\n",
       "      <td>1.7</td>\n",
       "      <td>2</td>\n",
       "    </tr>\n",
       "    <tr>\n",
       "      <th>109</th>\n",
       "      <td>7.2</td>\n",
       "      <td>3.6</td>\n",
       "      <td>6.1</td>\n",
       "      <td>2.5</td>\n",
       "      <td>2</td>\n",
       "    </tr>\n",
       "    <tr>\n",
       "      <th>111</th>\n",
       "      <td>6.4</td>\n",
       "      <td>2.7</td>\n",
       "      <td>5.3</td>\n",
       "      <td>1.9</td>\n",
       "      <td>2</td>\n",
       "    </tr>\n",
       "    <tr>\n",
       "      <th>115</th>\n",
       "      <td>6.4</td>\n",
       "      <td>3.2</td>\n",
       "      <td>5.3</td>\n",
       "      <td>2.3</td>\n",
       "      <td>2</td>\n",
       "    </tr>\n",
       "    <tr>\n",
       "      <th>132</th>\n",
       "      <td>6.4</td>\n",
       "      <td>2.8</td>\n",
       "      <td>5.6</td>\n",
       "      <td>2.2</td>\n",
       "      <td>2</td>\n",
       "    </tr>\n",
       "    <tr>\n",
       "      <th>133</th>\n",
       "      <td>6.3</td>\n",
       "      <td>2.8</td>\n",
       "      <td>5.1</td>\n",
       "      <td>1.5</td>\n",
       "      <td>2</td>\n",
       "    </tr>\n",
       "    <tr>\n",
       "      <th>134</th>\n",
       "      <td>6.1</td>\n",
       "      <td>2.6</td>\n",
       "      <td>5.6</td>\n",
       "      <td>1.4</td>\n",
       "      <td>2</td>\n",
       "    </tr>\n",
       "    <tr>\n",
       "      <th>139</th>\n",
       "      <td>6.9</td>\n",
       "      <td>3.1</td>\n",
       "      <td>5.4</td>\n",
       "      <td>2.1</td>\n",
       "      <td>2</td>\n",
       "    </tr>\n",
       "    <tr>\n",
       "      <th>141</th>\n",
       "      <td>6.9</td>\n",
       "      <td>3.1</td>\n",
       "      <td>5.1</td>\n",
       "      <td>2.3</td>\n",
       "      <td>2</td>\n",
       "    </tr>\n",
       "    <tr>\n",
       "      <th>145</th>\n",
       "      <td>6.7</td>\n",
       "      <td>3.0</td>\n",
       "      <td>5.2</td>\n",
       "      <td>2.3</td>\n",
       "      <td>2</td>\n",
       "    </tr>\n",
       "  </tbody>\n",
       "</table>\n",
       "</div>"
      ],
      "text/plain": [
       "     sepal.length  sepal.width  petal.length  petal.width  variety\n",
       "2             4.7          3.2           1.3          0.2        0\n",
       "6             4.6          3.4           1.4          0.3        0\n",
       "19            5.1          3.8           1.5          0.3        0\n",
       "22            4.6          3.6           1.0          0.2        0\n",
       "26            5.0          3.4           1.6          0.4        0\n",
       "30            4.8          3.1           1.6          0.2        0\n",
       "31            5.4          3.4           1.5          0.4        0\n",
       "33            5.5          4.2           1.4          0.2        0\n",
       "35            5.0          3.2           1.2          0.2        0\n",
       "43            5.0          3.5           1.6          0.6        0\n",
       "49            5.0          3.3           1.4          0.2        0\n",
       "64            5.6          2.9           3.6          1.3        1\n",
       "70            5.9          3.2           4.8          1.8        1\n",
       "71            6.1          2.8           4.0          1.3        1\n",
       "79            5.7          2.6           3.5          1.0        1\n",
       "85            6.0          3.4           4.5          1.6        1\n",
       "91            6.1          3.0           4.6          1.4        1\n",
       "92            5.8          2.6           4.0          1.2        1\n",
       "95            5.7          3.0           4.2          1.2        1\n",
       "105           7.6          3.0           6.6          2.1        2\n",
       "106           4.9          2.5           4.5          1.7        2\n",
       "109           7.2          3.6           6.1          2.5        2\n",
       "111           6.4          2.7           5.3          1.9        2\n",
       "115           6.4          3.2           5.3          2.3        2\n",
       "132           6.4          2.8           5.6          2.2        2\n",
       "133           6.3          2.8           5.1          1.5        2\n",
       "134           6.1          2.6           5.6          1.4        2\n",
       "139           6.9          3.1           5.4          2.1        2\n",
       "141           6.9          3.1           5.1          2.3        2\n",
       "145           6.7          3.0           5.2          2.3        2"
      ]
     },
     "execution_count": 30,
     "metadata": {},
     "output_type": "execute_result"
    }
   ],
   "source": [
    "test"
   ]
  },
  {
   "cell_type": "code",
   "execution_count": 31,
   "id": "c8d8032b-a57a-44ee-95b5-3e8450eafba6",
   "metadata": {},
   "outputs": [
    {
     "data": {
      "text/plain": [
       "variety\n",
       "0    11\n",
       "2    11\n",
       "1     8\n",
       "Name: count, dtype: int64"
      ]
     },
     "execution_count": 31,
     "metadata": {},
     "output_type": "execute_result"
    }
   ],
   "source": [
    "test.variety.value_counts()"
   ]
  },
  {
   "cell_type": "code",
   "execution_count": 53,
   "id": "96e0a2f1-837a-48ed-965b-a8bc8d5da570",
   "metadata": {},
   "outputs": [],
   "source": [
    "# calculate the Euclidean distance between two vectors be aware that the last element is for the class\n",
    "# Oklid uzaklik\n",
    "def euclidean_distance(row1, row2):\n",
    "    return np.sqrt(np.sum((row1[:-1] - row2[:-1])**2))"
   ]
  },
  {
   "cell_type": "code",
   "execution_count": 33,
   "id": "c3cb9519-317a-4c3d-86dd-4adebd61b046",
   "metadata": {},
   "outputs": [
    {
     "data": {
      "text/plain": [
       "sepal.length    5.9\n",
       "sepal.width     3.2\n",
       "petal.length    4.8\n",
       "petal.width     1.8\n",
       "variety         1.0\n",
       "Name: 70, dtype: float64"
      ]
     },
     "execution_count": 33,
     "metadata": {},
     "output_type": "execute_result"
    }
   ],
   "source": [
    "A = test.iloc[12,:]\n",
    "A"
   ]
  },
  {
   "cell_type": "code",
   "execution_count": 34,
   "id": "4c9f7db9-8f6d-4ae6-953f-5722466922b5",
   "metadata": {},
   "outputs": [
    {
     "data": {
      "text/plain": [
       "sepal.length    5.6\n",
       "sepal.width     2.9\n",
       "petal.length    3.6\n",
       "petal.width     1.3\n",
       "variety         1.0\n",
       "Name: 64, dtype: float64"
      ]
     },
     "execution_count": 34,
     "metadata": {},
     "output_type": "execute_result"
    }
   ],
   "source": [
    "B = test.iloc[11,:]\n",
    "B"
   ]
  },
  {
   "cell_type": "code",
   "execution_count": 35,
   "id": "9759eee3-c15d-46f9-bbe8-4a7a8a556b93",
   "metadata": {},
   "outputs": [
    {
     "data": {
      "text/plain": [
       "1.3674794331177342"
      ]
     },
     "execution_count": 35,
     "metadata": {},
     "output_type": "execute_result"
    }
   ],
   "source": [
    "euclidean_distance(A, B)"
   ]
  },
  {
   "cell_type": "code",
   "execution_count": 36,
   "id": "d1f96d63-aab4-4c64-a28e-251eb6afc74d",
   "metadata": {},
   "outputs": [],
   "source": [
    "# Locate the most similar neighbors\n",
    "def get_neighbors(train, test_instance, num_neighbors):\n",
    "    distances = []\n",
    "    train_copy=train.copy()\n",
    "    for j in range(len(train)):\n",
    "        dist = euclidean_distance(test_instance, train.iloc[j,:])\n",
    "        distances.append(dist)\n",
    "    train_copy['distance']=distances\n",
    "    return train_copy.nsmallest(num_neighbors, ['distance'])"
   ]
  },
  {
   "cell_type": "code",
   "execution_count": 37,
   "id": "09edf35b-9d84-464f-9bfb-e393d3a2b6ce",
   "metadata": {},
   "outputs": [
    {
     "data": {
      "text/html": [
       "<div>\n",
       "<style scoped>\n",
       "    .dataframe tbody tr th:only-of-type {\n",
       "        vertical-align: middle;\n",
       "    }\n",
       "\n",
       "    .dataframe tbody tr th {\n",
       "        vertical-align: top;\n",
       "    }\n",
       "\n",
       "    .dataframe thead th {\n",
       "        text-align: right;\n",
       "    }\n",
       "</style>\n",
       "<table border=\"1\" class=\"dataframe\">\n",
       "  <thead>\n",
       "    <tr style=\"text-align: right;\">\n",
       "      <th></th>\n",
       "      <th>sepal.length</th>\n",
       "      <th>sepal.width</th>\n",
       "      <th>petal.length</th>\n",
       "      <th>petal.width</th>\n",
       "      <th>variety</th>\n",
       "      <th>distance</th>\n",
       "    </tr>\n",
       "  </thead>\n",
       "  <tbody>\n",
       "    <tr>\n",
       "      <th>138</th>\n",
       "      <td>6.0</td>\n",
       "      <td>3.0</td>\n",
       "      <td>4.8</td>\n",
       "      <td>1.8</td>\n",
       "      <td>2</td>\n",
       "      <td>0.223607</td>\n",
       "    </tr>\n",
       "    <tr>\n",
       "      <th>127</th>\n",
       "      <td>6.1</td>\n",
       "      <td>3.0</td>\n",
       "      <td>4.9</td>\n",
       "      <td>1.8</td>\n",
       "      <td>2</td>\n",
       "      <td>0.300000</td>\n",
       "    </tr>\n",
       "    <tr>\n",
       "      <th>149</th>\n",
       "      <td>5.9</td>\n",
       "      <td>3.0</td>\n",
       "      <td>5.1</td>\n",
       "      <td>1.8</td>\n",
       "      <td>2</td>\n",
       "      <td>0.360555</td>\n",
       "    </tr>\n",
       "    <tr>\n",
       "      <th>56</th>\n",
       "      <td>6.3</td>\n",
       "      <td>3.3</td>\n",
       "      <td>4.7</td>\n",
       "      <td>1.6</td>\n",
       "      <td>1</td>\n",
       "      <td>0.469042</td>\n",
       "    </tr>\n",
       "    <tr>\n",
       "      <th>126</th>\n",
       "      <td>6.2</td>\n",
       "      <td>2.8</td>\n",
       "      <td>4.8</td>\n",
       "      <td>1.8</td>\n",
       "      <td>2</td>\n",
       "      <td>0.500000</td>\n",
       "    </tr>\n",
       "  </tbody>\n",
       "</table>\n",
       "</div>"
      ],
      "text/plain": [
       "     sepal.length  sepal.width  petal.length  petal.width  variety  distance\n",
       "138           6.0          3.0           4.8          1.8        2  0.223607\n",
       "127           6.1          3.0           4.9          1.8        2  0.300000\n",
       "149           5.9          3.0           5.1          1.8        2  0.360555\n",
       "56            6.3          3.3           4.7          1.6        1  0.469042\n",
       "126           6.2          2.8           4.8          1.8        2  0.500000"
      ]
     },
     "execution_count": 37,
     "metadata": {},
     "output_type": "execute_result"
    }
   ],
   "source": [
    "neighbors=get_neighbors(train, A, num_neighbors=5)\n",
    "neighbors"
   ]
  },
  {
   "cell_type": "code",
   "execution_count": 38,
   "id": "d4465296-1217-4a27-908c-20dc31b532b7",
   "metadata": {},
   "outputs": [
    {
     "data": {
      "text/plain": [
       "variety\n",
       "2    4\n",
       "1    1\n",
       "Name: count, dtype: int64"
      ]
     },
     "execution_count": 38,
     "metadata": {},
     "output_type": "execute_result"
    }
   ],
   "source": [
    "neighbors.variety.value_counts()"
   ]
  },
  {
   "cell_type": "code",
   "execution_count": 39,
   "id": "380b3357-9f1c-48c4-881d-aa51e0ac50f5",
   "metadata": {},
   "outputs": [
    {
     "data": {
      "text/plain": [
       "variety\n",
       "2    4\n",
       "1    1\n",
       "Name: count, dtype: int64"
      ]
     },
     "execution_count": 39,
     "metadata": {},
     "output_type": "execute_result"
    }
   ],
   "source": [
    "neighbors.variety.value_counts()"
   ]
  },
  {
   "cell_type": "code",
   "execution_count": 40,
   "id": "1407c6b5-1800-4be7-9d2e-fa5a712d50fb",
   "metadata": {},
   "outputs": [],
   "source": [
    "# Sınıf Tahmininde bulunma\n",
    "def predict_classes(train, test, num_neighbors):\n",
    "    prediction=[]\n",
    "    for j in range(len(test)):\n",
    "        neighbors = get_neighbors(train, test.iloc[j,:], num_neighbors)\n",
    "        predicted_class = neighbors.variety.value_counts().index[0]\n",
    "        prediction.append(predicted_class)\n",
    "    return prediction"
   ]
  },
  {
   "cell_type": "code",
   "execution_count": 41,
   "id": "ac85636b-acae-453c-8b1b-a047aa5f6759",
   "metadata": {},
   "outputs": [
    {
     "data": {
      "text/plain": [
       "[0,\n",
       " 0,\n",
       " 0,\n",
       " 0,\n",
       " 0,\n",
       " 0,\n",
       " 0,\n",
       " 0,\n",
       " 0,\n",
       " 0,\n",
       " 0,\n",
       " 1,\n",
       " 2,\n",
       " 1,\n",
       " 1,\n",
       " 1,\n",
       " 1,\n",
       " 1,\n",
       " 1,\n",
       " 2,\n",
       " 1,\n",
       " 2,\n",
       " 2,\n",
       " 2,\n",
       " 2,\n",
       " 2,\n",
       " 2,\n",
       " 2,\n",
       " 2,\n",
       " 2]"
      ]
     },
     "execution_count": 41,
     "metadata": {},
     "output_type": "execute_result"
    }
   ],
   "source": [
    "prediction=predict_classes(train, test, num_neighbors=5)\n",
    "prediction"
   ]
  },
  {
   "cell_type": "code",
   "execution_count": 42,
   "id": "91340029-2264-4116-8904-438ce8b0a43a",
   "metadata": {},
   "outputs": [
    {
     "data": {
      "text/plain": [
       "[(0, 0),\n",
       " (0, 0),\n",
       " (0, 0),\n",
       " (0, 0),\n",
       " (0, 0),\n",
       " (0, 0),\n",
       " (0, 0),\n",
       " (0, 0),\n",
       " (0, 0),\n",
       " (0, 0),\n",
       " (0, 0),\n",
       " (1, 1),\n",
       " (2, 1),\n",
       " (1, 1),\n",
       " (1, 1),\n",
       " (1, 1),\n",
       " (1, 1),\n",
       " (1, 1),\n",
       " (1, 1),\n",
       " (2, 2),\n",
       " (1, 2),\n",
       " (2, 2),\n",
       " (2, 2),\n",
       " (2, 2),\n",
       " (2, 2),\n",
       " (2, 2),\n",
       " (2, 2),\n",
       " (2, 2),\n",
       " (2, 2),\n",
       " (2, 2)]"
      ]
     },
     "execution_count": 42,
     "metadata": {},
     "output_type": "execute_result"
    }
   ],
   "source": [
    "list(zip(prediction,test.variety))"
   ]
  },
  {
   "cell_type": "code",
   "execution_count": 43,
   "id": "1e9cfc05-31c2-4f71-96f8-484272329edc",
   "metadata": {},
   "outputs": [],
   "source": [
    "def compute_accuracy(prediction,test_y):\n",
    "    return np.mean(prediction==test_y)"
   ]
  },
  {
   "cell_type": "code",
   "execution_count": 44,
   "id": "827c4c3f-8c30-47cb-b792-4c3d8f5e5aca",
   "metadata": {},
   "outputs": [
    {
     "data": {
      "text/plain": [
       "0.9333333333333333"
      ]
     },
     "execution_count": 44,
     "metadata": {},
     "output_type": "execute_result"
    }
   ],
   "source": [
    "compute_accuracy(prediction,test.variety)"
   ]
  },
  {
   "cell_type": "code",
   "execution_count": 45,
   "id": "905b0e13-e190-4a89-a36c-9aac04a5e55a",
   "metadata": {},
   "outputs": [
    {
     "data": {
      "text/plain": [
       "0.9"
      ]
     },
     "execution_count": 45,
     "metadata": {},
     "output_type": "execute_result"
    }
   ],
   "source": [
    "prediction=predict_classes(train, test, num_neighbors=1)\n",
    "compute_accuracy(prediction,test.variety)"
   ]
  },
  {
   "cell_type": "code",
   "execution_count": 46,
   "id": "7987923b-a12e-4440-8c61-0cabfefe2d75",
   "metadata": {},
   "outputs": [
    {
     "data": {
      "text/plain": [
       "0.9"
      ]
     },
     "execution_count": 46,
     "metadata": {},
     "output_type": "execute_result"
    }
   ],
   "source": [
    "prediction=predict_classes(train, test, num_neighbors=2)\n",
    "compute_accuracy(prediction,test.variety)"
   ]
  },
  {
   "cell_type": "code",
   "execution_count": 47,
   "id": "f51d8555-a0ae-4ffe-bf0e-80b242544d37",
   "metadata": {},
   "outputs": [
    {
     "data": {
      "text/plain": [
       "0.9"
      ]
     },
     "execution_count": 47,
     "metadata": {},
     "output_type": "execute_result"
    }
   ],
   "source": [
    "prediction=predict_classes(train, test, num_neighbors=10)\n",
    "compute_accuracy(prediction,test.variety)"
   ]
  },
  {
   "cell_type": "code",
   "execution_count": 48,
   "id": "12986315-f91a-4683-a78d-7526ee1620e3",
   "metadata": {},
   "outputs": [
    {
     "data": {
      "text/plain": [
       "0.8666666666666667"
      ]
     },
     "execution_count": 48,
     "metadata": {},
     "output_type": "execute_result"
    }
   ],
   "source": [
    "prediction=predict_classes(train, test, num_neighbors=75)\n",
    "compute_accuracy(prediction,test.variety)"
   ]
  },
  {
   "cell_type": "code",
   "execution_count": 49,
   "id": "d2e7b3da-b9e6-4960-b022-c388c223db05",
   "metadata": {},
   "outputs": [
    {
     "data": {
      "text/plain": [
       "0.3"
      ]
     },
     "execution_count": 49,
     "metadata": {},
     "output_type": "execute_result"
    }
   ],
   "source": [
    "prediction=predict_classes(train, test, num_neighbors=85)\n",
    "compute_accuracy(prediction,test.variety)"
   ]
  },
  {
   "cell_type": "markdown",
   "id": "88225637-bc65-4579-bf46-f1162976eb93",
   "metadata": {},
   "source": [
    "#  WKNN"
   ]
  },
  {
   "cell_type": "code",
   "execution_count": 50,
   "id": "619050ef-ca3c-4b98-abac-ef37e0a24a0a",
   "metadata": {},
   "outputs": [
    {
     "data": {
      "text/html": [
       "<div>\n",
       "<style scoped>\n",
       "    .dataframe tbody tr th:only-of-type {\n",
       "        vertical-align: middle;\n",
       "    }\n",
       "\n",
       "    .dataframe tbody tr th {\n",
       "        vertical-align: top;\n",
       "    }\n",
       "\n",
       "    .dataframe thead th {\n",
       "        text-align: right;\n",
       "    }\n",
       "</style>\n",
       "<table border=\"1\" class=\"dataframe\">\n",
       "  <thead>\n",
       "    <tr style=\"text-align: right;\">\n",
       "      <th></th>\n",
       "      <th>sepal.length</th>\n",
       "      <th>sepal.width</th>\n",
       "      <th>petal.length</th>\n",
       "      <th>petal.width</th>\n",
       "      <th>variety</th>\n",
       "      <th>distance</th>\n",
       "      <th>weights</th>\n",
       "    </tr>\n",
       "  </thead>\n",
       "  <tbody>\n",
       "    <tr>\n",
       "      <th>70</th>\n",
       "      <td>5.9</td>\n",
       "      <td>3.2</td>\n",
       "      <td>4.8</td>\n",
       "      <td>1.8</td>\n",
       "      <td>1</td>\n",
       "      <td>0.000000</td>\n",
       "      <td>inf</td>\n",
       "    </tr>\n",
       "    <tr>\n",
       "      <th>138</th>\n",
       "      <td>6.0</td>\n",
       "      <td>3.0</td>\n",
       "      <td>4.8</td>\n",
       "      <td>1.8</td>\n",
       "      <td>2</td>\n",
       "      <td>0.223607</td>\n",
       "      <td>4.472136</td>\n",
       "    </tr>\n",
       "    <tr>\n",
       "      <th>127</th>\n",
       "      <td>6.1</td>\n",
       "      <td>3.0</td>\n",
       "      <td>4.9</td>\n",
       "      <td>1.8</td>\n",
       "      <td>2</td>\n",
       "      <td>0.300000</td>\n",
       "      <td>3.333333</td>\n",
       "    </tr>\n",
       "    <tr>\n",
       "      <th>149</th>\n",
       "      <td>5.9</td>\n",
       "      <td>3.0</td>\n",
       "      <td>5.1</td>\n",
       "      <td>1.8</td>\n",
       "      <td>2</td>\n",
       "      <td>0.360555</td>\n",
       "      <td>2.773501</td>\n",
       "    </tr>\n",
       "    <tr>\n",
       "      <th>85</th>\n",
       "      <td>6.0</td>\n",
       "      <td>3.4</td>\n",
       "      <td>4.5</td>\n",
       "      <td>1.6</td>\n",
       "      <td>1</td>\n",
       "      <td>0.424264</td>\n",
       "      <td>2.357023</td>\n",
       "    </tr>\n",
       "  </tbody>\n",
       "</table>\n",
       "</div>"
      ],
      "text/plain": [
       "     sepal.length  sepal.width  petal.length  petal.width  variety  distance  \\\n",
       "70            5.9          3.2           4.8          1.8        1  0.000000   \n",
       "138           6.0          3.0           4.8          1.8        2  0.223607   \n",
       "127           6.1          3.0           4.9          1.8        2  0.300000   \n",
       "149           5.9          3.0           5.1          1.8        2  0.360555   \n",
       "85            6.0          3.4           4.5          1.6        1  0.424264   \n",
       "\n",
       "      weights  \n",
       "70        inf  \n",
       "138  4.472136  \n",
       "127  3.333333  \n",
       "149  2.773501  \n",
       "85   2.357023  "
      ]
     },
     "execution_count": 50,
     "metadata": {},
     "output_type": "execute_result"
    }
   ],
   "source": [
    "def get_neighbors(train, test_instance, num_neighbors):\n",
    "    distances = []\n",
    "    train_copy=train.copy()\n",
    "    for j in range(len(train)):\n",
    "        dist = euclidean_distance(test_instance, train.iloc[j,:])\n",
    "        distances.append(dist)\n",
    "    train_copy['distance']=distances\n",
    "    train_copy['weights']=1/train_copy['distance']\n",
    "    return train_copy.nsmallest(num_neighbors, ['distance'])\n",
    "\n",
    "get_neighbors(df, A, 5)"
   ]
  },
  {
   "cell_type": "code",
   "execution_count": 51,
   "id": "1b983426-ae8d-422d-a77c-3df63d239b51",
   "metadata": {},
   "outputs": [],
   "source": [
    "def predict_classes(train, test, num_neighbors):\n",
    "    prediction=[]\n",
    "    for j in range(len(test)):\n",
    "        neighbors = get_neighbors(train, test.iloc[j,:], num_neighbors)\n",
    "        Class_Weight_Sums=[]\n",
    "        for i in np.unique(neighbors.variety):\n",
    "            Class_Weight_Sums.append((i,np.sum(neighbors[neighbors.variety==i].weights)))\n",
    "            print(Class_Weight_Sums)\n",
    "        predicted_class = max(Class_Weight_Sums, key=lambda x:x[1])[0]\n",
    "        prediction.append(predicted_class)\n",
    "    return np.array(prediction)"
   ]
  },
  {
   "cell_type": "code",
   "execution_count": 52,
   "id": "031bf83b-870b-4a29-81d8-1a4ba2f06248",
   "metadata": {},
   "outputs": [
    {
     "name": "stdout",
     "output_type": "stream",
     "text": [
      "[(0, 82.98128508248766)]\n",
      "[(0, 82.98128508248766), (1, 11.94208179117335)]\n",
      "[(0, 82.98128508248766), (1, 11.94208179117335), (2, 1.4359238751024155)]\n",
      "[(0, 72.03640875253396)]\n",
      "[(0, 72.03640875253396), (1, 11.620300602686278)]\n",
      "[(0, 72.03640875253396), (1, 11.620300602686278), (2, 1.9315587442384317)]\n",
      "[(0, 85.32149558639718)]\n",
      "[(0, 85.32149558639718), (1, 12.442715368062387)]\n",
      "[(0, 85.32149558639718), (1, 12.442715368062387), (2, 1.5165676194243842)]\n",
      "[(0, 49.595324128169935)]\n",
      "[(0, 49.595324128169935), (1, 10.69852921210548)]\n",
      "[(0, 49.595324128169935), (1, 10.69852921210548), (2, 1.3265067401951443)]\n",
      "[(0, 87.34565052551085)]\n",
      "[(0, 87.34565052551085), (1, 13.40933730818676)]\n",
      "[(0, 87.34565052551085), (1, 13.40933730818676), (2, 1.5862926237486052)]\n",
      "[(0, 92.31156284381922)]\n",
      "[(0, 92.31156284381922), (1, 13.180480095837684)]\n",
      "[(0, 92.31156284381922), (1, 13.180480095837684), (2, 1.545837170250807)]\n",
      "[(0, 71.97478564620093)]\n",
      "[(0, 71.97478564620093), (1, 13.56825077968287)]\n",
      "[(0, 71.97478564620093), (1, 13.56825077968287), (2, 1.3300374232771712)]\n",
      "[(0, 48.404138191692994)]\n",
      "[(0, 48.404138191692994), (1, 11.622019019562316)]\n",
      "[(0, 48.404138191692994), (1, 11.622019019562316), (2, 1.4562278758085194)]\n",
      "[(0, 74.22715096230368)]\n",
      "[(0, 74.22715096230368), (1, 11.90380201789137)]\n",
      "[(0, 74.22715096230368), (1, 11.90380201789137), (2, 1.435178121760981)]\n",
      "[(0, 67.67845642347275)]\n",
      "[(0, 67.67845642347275), (1, 13.516745978274717)]\n",
      "[(0, 67.67845642347275), (1, 13.516745978274717), (2, 1.610177095278627)]\n",
      "[(0, 99.42213535404717)]\n",
      "[(0, 99.42213535404717), (1, 12.495556122910406)]\n",
      "[(0, 99.42213535404717), (1, 12.495556122910406), (2, 1.4933564320245933)]\n",
      "[(0, 8.295443388182582)]\n",
      "[(0, 8.295443388182582), (1, 46.97792390864604)]\n",
      "[(0, 8.295443388182582), (1, 46.97792390864604), (2, 12.531048363780142)]\n",
      "[(0, 1.157505862834564)]\n",
      "[(0, 1.157505862834564), (1, 44.80589606269135)]\n",
      "[(0, 1.157505862834564), (1, 44.80589606269135), (2, 44.29088520747515)]\n",
      "[(0, 2.886380610482843)]\n",
      "[(0, 2.886380610482843), (1, 60.02130990235316)]\n",
      "[(0, 2.886380610482843), (1, 60.02130990235316), (2, 21.706253758346808)]\n",
      "[(0, 10.218488689648307)]\n",
      "[(0, 10.218488689648307), (1, 45.52832118008643)]\n",
      "[(0, 10.218488689648307), (1, 45.52832118008643), (2, 9.7969092621015)]\n",
      "[(0, 1.2862788404515146)]\n",
      "[(0, 1.2862788404515146), (1, 48.234709872192305)]\n",
      "[(0, 1.2862788404515146), (1, 48.234709872192305), (2, 30.52999435151072)]\n",
      "[(0, 1.247173543248417)]\n",
      "[(0, 1.247173543248417), (1, 70.915923627785)]\n",
      "[(0, 1.247173543248417), (1, 70.915923627785), (2, 34.567082116286564)]\n",
      "[(0, 3.294827375286021)]\n",
      "[(0, 3.294827375286021), (1, 71.99828662124257)]\n",
      "[(0, 3.294827375286021), (1, 71.99828662124257), (2, 19.833531836889417)]\n",
      "[(0, 3.2322237295461855)]\n",
      "[(0, 3.2322237295461855), (1, 71.29045840056713)]\n",
      "[(0, 3.2322237295461855), (1, 71.29045840056713), (2, 21.622439191004567)]\n",
      "[(0, 0.7056765204483059)]\n",
      "[(0, 0.7056765204483059), (1, 14.749503086066353)]\n",
      "[(0, 0.7056765204483059), (1, 14.749503086066353), (2, 33.31656649006245)]\n",
      "[(0, 2.4388872434430677)]\n",
      "[(0, 2.4388872434430677), (1, 33.52026969403778)]\n",
      "[(0, 2.4388872434430677), (1, 33.52026969403778), (2, 19.925445237744743)]\n",
      "[(0, 0.7701021664338815)]\n",
      "[(0, 0.7701021664338815), (1, 16.62063049724542)]\n",
      "[(0, 0.7701021664338815), (1, 16.62063049724542), (2, 33.165741638300226)]\n",
      "[(0, 0.9685084704986191)]\n",
      "[(0, 0.9685084704986191), (1, 35.551619179809435)]\n",
      "[(0, 0.9685084704986191), (1, 35.551619179809435), (2, 54.81632516501003)]\n",
      "[(0, 0.9496076588379857)]\n",
      "[(0, 0.9496076588379857), (1, 28.24444048601428)]\n",
      "[(0, 0.9496076588379857), (1, 28.24444048601428), (2, 53.276827160893916)]\n",
      "[(0, 0.8915260120577435)]\n",
      "[(0, 0.8915260120577435), (1, 26.45910548073234)]\n",
      "[(0, 0.8915260120577435), (1, 26.45910548073234), (2, 60.9292982711758)]\n",
      "[(0, 1.0604541297901278)]\n",
      "[(0, 1.0604541297901278), (1, 48.78719112926503)]\n",
      "[(0, 1.0604541297901278), (1, 48.78719112926503), (2, 45.89605727969977)]\n",
      "[(0, 0.9570664091303094)]\n",
      "[(0, 0.9570664091303094), (1, 31.330722417438533)]\n",
      "[(0, 0.9570664091303094), (1, 31.330722417438533), (2, 37.05194297707982)]\n",
      "[(0, 0.9133814929376959)]\n",
      "[(0, 0.9133814929376959), (1, 27.693067937063677)]\n",
      "[(0, 0.9133814929376959), (1, 27.693067937063677), (2, 54.49800953845614)]\n",
      "[(0, 0.9481058675680849)]\n",
      "[(0, 0.9481058675680849), (1, 28.221281052827596)]\n",
      "[(0, 0.9481058675680849), (1, 28.221281052827596), (2, 42.084436248338655)]\n",
      "[(0, 0.9422880908671218)]\n",
      "[(0, 0.9422880908671218), (1, 28.98250504966801)]\n",
      "[(0, 0.9422880908671218), (1, 28.98250504966801), (2, 49.25380743867929)]\n"
     ]
    },
    {
     "data": {
      "text/plain": [
       "(0.9333333333333333,\n",
       " array([0, 0, 0, 0, 0, 0, 0, 0, 0, 0, 0, 1, 1, 1, 1, 1, 1, 1, 1, 2, 1, 2,\n",
       "        2, 2, 2, 1, 2, 2, 2, 2], dtype=int8))"
      ]
     },
     "execution_count": 52,
     "metadata": {},
     "output_type": "execute_result"
    }
   ],
   "source": [
    "def Weighted_KNN(train,test,number_neighbors):\n",
    "    test_y=test.variety\n",
    "    predictions=predict_classes(train, test, number_neighbors)\n",
    "    accuracy=compute_accuracy(predictions,test_y)\n",
    "    return accuracy,predictions\n",
    "Weighted_KNN(train, test, 85)"
   ]
  }
 ],
 "metadata": {
  "kernelspec": {
   "display_name": "Python 3 (ipykernel)",
   "language": "python",
   "name": "python3"
  },
  "language_info": {
   "codemirror_mode": {
    "name": "ipython",
    "version": 3
   },
   "file_extension": ".py",
   "mimetype": "text/x-python",
   "name": "python",
   "nbconvert_exporter": "python",
   "pygments_lexer": "ipython3",
   "version": "3.12.6"
  }
 },
 "nbformat": 4,
 "nbformat_minor": 5
}
